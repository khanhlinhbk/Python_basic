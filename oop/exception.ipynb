{
 "cells": [
  {
   "cell_type": "markdown",
   "metadata": {},
   "source": [
    "# Exceptions"
   ]
  },
  {
   "cell_type": "markdown",
   "metadata": {},
   "source": [
    "## Syntax Error\n",
    "\n",
    "Các lỗi cú pháp thường dễ xử lý, lỗi cú pháp có thể được phát hiện và cảnh báo ngay khi code"
   ]
  },
  {
   "cell_type": "code",
   "execution_count": 1,
   "metadata": {},
   "outputs": [
    {
     "name": "stdout",
     "output_type": "stream",
     "text": [
      "<class 'int'>\n"
     ]
    }
   ],
   "source": [
    "print(type(5))"
   ]
  },
  {
   "cell_type": "code",
   "execution_count": null,
   "metadata": {},
   "outputs": [],
   "source": [
    "# Lỗi thiếu dấu :\n",
    "while True print(\"Syntax Error\")\n",
    "\n",
    "# Lỗi thụt lề\n",
    "if True:\n",
    "    x = 1\n",
    "  y = 2"
   ]
  },
  {
   "cell_type": "markdown",
   "metadata": {},
   "source": [
    "## Logical Error (Exceptions)\n",
    "\n",
    "Lỗi xảy ra trong quá trình thực thi chương trình"
   ]
  },
  {
   "cell_type": "code",
   "execution_count": null,
   "metadata": {},
   "outputs": [],
   "source": [
    "# Lỗi chia cho 0\n",
    "1 / 0\n",
    "\n",
    "# Lỗi kiểu dữ liệu không phù hợp\n",
    "1 + \"1\"\n",
    "\n",
    "# Lỗi index không hợp lệ\n",
    "l = []\n",
    "l[0]\n",
    "\n",
    "# Lỗi tệp tin không tồn tại\n",
    "open(\"abc.xyz\")\n",
    "\n",
    "class Demo:\n",
    "    pass\n",
    "\n",
    "# Lỗi attribute không tồn tại\n",
    "obj = Demo()\n",
    "obj.x"
   ]
  },
  {
   "cell_type": "markdown",
   "metadata": {},
   "source": [
    "## Raising Exceptions\n",
    "\n",
    "Có thể ném ra một exception với điều kiện nhất định, sử dụng `raise` hoặc `assert`"
   ]
  },
  {
   "cell_type": "code",
   "execution_count": 3,
   "metadata": {},
   "outputs": [
    {
     "ename": "AssertionError",
     "evalue": "Giá trị không hợp lệ: 'abc'",
     "output_type": "error",
     "traceback": [
      "\u001b[1;31m---------------------------------------------------------------------------\u001b[0m",
      "\u001b[1;31mAssertionError\u001b[0m                            Traceback (most recent call last)",
      "\u001b[1;32mC:\\Users\\LINH~1.TRI\\AppData\\Local\\Temp/ipykernel_2608/2452572050.py\u001b[0m in \u001b[0;36m<module>\u001b[1;34m\u001b[0m\n\u001b[0;32m     12\u001b[0m     \u001b[1;32mreturn\u001b[0m \u001b[0mresult\u001b[0m\u001b[1;33m\u001b[0m\u001b[1;33m\u001b[0m\u001b[0m\n\u001b[0;32m     13\u001b[0m \u001b[1;33m\u001b[0m\u001b[0m\n\u001b[1;32m---> 14\u001b[1;33m \u001b[0mprint\u001b[0m\u001b[1;33m(\u001b[0m\u001b[0mfactorial\u001b[0m\u001b[1;33m(\u001b[0m\u001b[1;34m\"abc\"\u001b[0m\u001b[1;33m)\u001b[0m\u001b[1;33m)\u001b[0m\u001b[1;33m\u001b[0m\u001b[1;33m\u001b[0m\u001b[0m\n\u001b[0m",
      "\u001b[1;32mC:\\Users\\LINH~1.TRI\\AppData\\Local\\Temp/ipykernel_2608/2452572050.py\u001b[0m in \u001b[0;36mfactorial\u001b[1;34m(number)\u001b[0m\n\u001b[0;32m      1\u001b[0m \u001b[1;32mdef\u001b[0m \u001b[0mfactorial\u001b[0m\u001b[1;33m(\u001b[0m\u001b[0mnumber\u001b[0m\u001b[1;33m)\u001b[0m\u001b[1;33m:\u001b[0m\u001b[1;33m\u001b[0m\u001b[1;33m\u001b[0m\u001b[0m\n\u001b[1;32m----> 2\u001b[1;33m     \u001b[1;32massert\u001b[0m \u001b[0mtype\u001b[0m\u001b[1;33m(\u001b[0m\u001b[0mnumber\u001b[0m\u001b[1;33m)\u001b[0m \u001b[1;33m==\u001b[0m \u001b[0mint\u001b[0m \u001b[1;32mand\u001b[0m \u001b[0mnumber\u001b[0m \u001b[1;33m>=\u001b[0m \u001b[1;36m0\u001b[0m\u001b[1;33m,\u001b[0m \u001b[1;34mf\"Giá trị không hợp lệ: '{number}'\"\u001b[0m\u001b[1;33m\u001b[0m\u001b[1;33m\u001b[0m\u001b[0m\n\u001b[0m\u001b[0;32m      3\u001b[0m \u001b[1;33m\u001b[0m\u001b[0m\n\u001b[0;32m      4\u001b[0m     \u001b[0mresult\u001b[0m \u001b[1;33m=\u001b[0m \u001b[0mnumber\u001b[0m\u001b[1;33m\u001b[0m\u001b[1;33m\u001b[0m\u001b[0m\n\u001b[0;32m      5\u001b[0m \u001b[1;33m\u001b[0m\u001b[0m\n",
      "\u001b[1;31mAssertionError\u001b[0m: Giá trị không hợp lệ: 'abc'"
     ]
    }
   ],
   "source": [
    "def factorial(number):\n",
    "    assert type(number) == int and number >= 0, f\"Giá trị không hợp lệ: '{number}'\"\n",
    "\n",
    "    result = number\n",
    "\n",
    "    if number == 0:\n",
    "        return 1\n",
    "\n",
    "    for i in range(2, number):\n",
    "        result *= i\n",
    "\n",
    "    return result\n",
    "\n",
    "print(factorial(\"abc\"))"
   ]
  },
  {
   "cell_type": "markdown",
   "metadata": {},
   "source": [
    "## Handling Exceptions\n",
    "\n",
    "Bắt và xử lý exception với khối lệnh `try except`\n",
    "\n",
    "Có thể có nhiều khối `except` để bóc tách và xử lý từng loại lỗi riêng biệt"
   ]
  },
  {
   "cell_type": "code",
   "execution_count": null,
   "metadata": {},
   "outputs": [],
   "source": [
    "list_ = [\"hello\", 0, 1, -2, 3]\n",
    "\n",
    "for value in list_:\n",
    "    try:\n",
    "        print(f\"{value}! =\", factorial(value))\n",
    "    except AssertionError as e:\n",
    "        print(\"Error:\", e)\n",
    "        print()"
   ]
  },
  {
   "cell_type": "markdown",
   "metadata": {},
   "source": [
    "## Clean-up Actions\n",
    "\n",
    "Khối lệnh `finally` thường chứa các đoạn mã có nhiệm vụ dọn dẹp như đóng file, ngắt kết nối, ...\n",
    "\n",
    "Một số loại đối tượng như file có thể sử dụng với câu lệnh `with` để tự động dọn dẹp khi không còn cần thiết"
   ]
  },
  {
   "cell_type": "code",
   "execution_count": null,
   "metadata": {},
   "outputs": [],
   "source": [
    "try:\n",
    "    file = open(\"demo.txt\")\n",
    "    for line in file:\n",
    "        print(line, end=\"\")\n",
    "except FileNotFoundError as e:\n",
    "    print(\"Không tìm thấy file demo.txt\")\n",
    "finally:\n",
    "    file.close()"
   ]
  },
  {
   "cell_type": "code",
   "execution_count": null,
   "metadata": {},
   "outputs": [],
   "source": [
    "try:\n",
    "    with open(\"demo.txt\") as file:\n",
    "        for line in file:\n",
    "            print(line, end=\"\")\n",
    "except FileNotFoundError as e:\n",
    "    print(\"Không tìm thấy file demo.txt\")"
   ]
  },
  {
   "cell_type": "markdown",
   "metadata": {},
   "source": [
    "## User-defined Exceptions\n",
    "\n",
    "Có thể tạo exception tùy chỉnh bằng cách tạo các class mới. Các class này phải kế thừa (trực tiếp hoặc gián tiếp) từ lớp `Exception`.\n",
    "\n",
    "Các exception theo quy ước có tên kết thúc với `Error` để phân biệt với các class thông thường.\n",
    "\n",
    "Mặc dù các class này có thể hoạt động giống như bất kỳ class thông thường nào, nhưng thường chỉ đơn giản là chứa một vài thuộc tính để mô tả mã lỗi hay thông báo lỗi"
   ]
  },
  {
   "cell_type": "code",
   "execution_count": null,
   "metadata": {},
   "outputs": [],
   "source": [
    "class Error(Exception):\n",
    "    \"\"\"Base class cho các exception trong module\"\"\"\n",
    "    pass\n",
    "\n",
    "class NotIntegerError(Error):\n",
    "    \"\"\"Ném ra khi giá trị đầu vào không phải integer\"\"\"\n",
    "\n",
    "    def __init__(self, value):\n",
    "        message = f\"Không phải số nguyên: {value}\"\n",
    "        self.value = value\n",
    "        self.message = message\n",
    "\n",
    "class NegativeError(Error):\n",
    "    \"\"\"Ném ra khi giá trị số là số âm\"\"\"\n",
    "    \n",
    "    def __init__(self, value):\n",
    "        message = f\"Không phải số nguyên dương: {value}\"\n",
    "        self.value = value\n",
    "        self.message = message\n",
    "\n",
    "\n",
    "def factorial(number):\n",
    "    if type(number) != int: raise NotIntegerError(number)\n",
    "\n",
    "    if number < 0: raise NegativeError(number)\n",
    "\n",
    "    result = number\n",
    "\n",
    "    if number == 0:\n",
    "        return 1\n",
    "\n",
    "    for i in range(2, number):\n",
    "        result *= i\n",
    "\n",
    "    return result\n",
    "\n",
    "int(input())\n",
    "\n",
    "print(factorial(\"abc\"))"
   ]
  },
  {
   "cell_type": "markdown",
   "metadata": {},
   "source": [
    "## Excercise\n",
    "\n",
    "Game đoán số\n",
    "\n",
    "Tạo một số nguyên ngẫu nhiên trong khoảng 0 - 50, và gợi ý người dùng đoán một số, nếu trùng, hiển thị kết quả, nếu số đoán lớn hơn hoặc nhỏ hơn, hiển thị một thông báo lỗi tương ứng và gợi ý người dùng đoán lại. \n",
    "\n",
    "Số lần đoán tối đa: 3\n",
    "Xác định và xử lý các exception phù hợp"
   ]
  },
  {
   "cell_type": "code",
   "execution_count": 2,
   "metadata": {},
   "outputs": [],
   "source": [
    "def choseNumber(a):\n",
    "    val = int(input('Hãy nhập vào 1 số từ 1 đến 50: ')) "
   ]
  }
 ],
 "metadata": {
  "interpreter": {
   "hash": "db9b8f3b4692716b3be69df66af7d98986a5a525a687af8c4e691f6296842b9a"
  },
  "kernelspec": {
   "display_name": "Python 3.7.8 64-bit",
   "name": "python3"
  },
  "language_info": {
   "codemirror_mode": {
    "name": "ipython",
    "version": 3
   },
   "file_extension": ".py",
   "mimetype": "text/x-python",
   "name": "python",
   "nbconvert_exporter": "python",
   "pygments_lexer": "ipython3",
   "version": "3.7.8"
  },
  "orig_nbformat": 4
 },
 "nbformat": 4,
 "nbformat_minor": 2
}
