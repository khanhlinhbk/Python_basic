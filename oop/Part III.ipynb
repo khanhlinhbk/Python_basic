{
 "cells": [
  {
   "cell_type": "markdown",
   "source": [
    "# Python - Lập trình hướng đối tượng"
   ],
   "metadata": {}
  },
  {
   "cell_type": "markdown",
   "source": [
    "## Inheritance\n",
    "\n",
    "Kế thừa (inheritance) là một tính chất quan trọng trong lập trình hướng đối tượng. "
   ],
   "metadata": {}
  },
  {
   "cell_type": "code",
   "execution_count": 1,
   "source": [
    "class Person:\r\n",
    "    def __init__(self, name, age, address, phone):\r\n",
    "        self.name = name \r\n",
    "        self.age = age \r\n",
    "        self.address = address\r\n",
    "        self.phone = phone\r\n",
    "    \r\n",
    "    def greet(self):\r\n",
    "        print(\"Hello, I'm\", self.name)\r\n",
    "\r\n",
    "    def is_adult(self):\r\n",
    "        return True if self.age >= 18 else False\r\n",
    "\r\n",
    "    def contact(self):\r\n",
    "        print(self.address, self.phone)"
   ],
   "outputs": [],
   "metadata": {}
  },
  {
   "cell_type": "markdown",
   "source": [
    "Kế thừa lớp `Person`, `Employee` có toàn bộ thuộc tính và phương thức của `Person`"
   ],
   "metadata": {}
  },
  {
   "cell_type": "code",
   "execution_count": 2,
   "source": [
    "class Employee(Person): # Cú pháp kế thừa\r\n",
    "    pass\r\n",
    "\r\n",
    "e = Employee(\"Ba\", 29, \"Cầu Giấy\", \"09xx\")\r\n",
    "e.greet()\r\n",
    "e.contact()\r\n",
    "print(e.is_adult())"
   ],
   "outputs": [
    {
     "output_type": "stream",
     "name": "stdout",
     "text": [
      "Hello, I'm Ba\n",
      "Cầu Giấy 09xx\n",
      "True\n"
     ]
    }
   ],
   "metadata": {}
  },
  {
   "cell_type": "markdown",
   "source": [
    "Mở rộng thêm một số thuộc tính mới và ghi đè (overriding) các phương thức"
   ],
   "metadata": {}
  },
  {
   "cell_type": "code",
   "execution_count": 4,
   "source": [
    "class Employee(Person):\r\n",
    "    def __init__(self, name, age, address, phone, salary, roll):\r\n",
    "        self.name = name\r\n",
    "        self.age = age \r\n",
    "        self.address = address\r\n",
    "        self.phone = phone\r\n",
    "        self.salary = salary\r\n",
    "        self.roll = roll\r\n",
    "\r\n",
    "    def greet(self):\r\n",
    "        print(\"Hello, I'm\", self.name)\r\n",
    "        print(\"I'm\", self.roll)\r\n",
    "\r\n",
    "e = Employee(\"Ba\", 29, \"Cầu Giấy\", \"09xx\", 1000, \"Teacher\")\r\n",
    "e.greet()"
   ],
   "outputs": [
    {
     "output_type": "stream",
     "name": "stdout",
     "text": [
      "Hello, I'm Ba\n",
      "I'm Teacher\n"
     ]
    }
   ],
   "metadata": {}
  },
  {
   "cell_type": "markdown",
   "source": [
    "`super()` tham chiếu đến lớp cha"
   ],
   "metadata": {}
  },
  {
   "cell_type": "code",
   "execution_count": 5,
   "source": [
    "class Employee(Person):\r\n",
    "    def __init__(self, name, age, address, phone, salary, roll):\r\n",
    "        super().__init__(name, age, address, phone)\r\n",
    "        self.salary = salary\r\n",
    "        self.roll = roll\r\n",
    "\r\n",
    "    def greet(self):\r\n",
    "        super().greet()\r\n",
    "        print(\"I'm\", self.roll)\r\n",
    "\r\n",
    "\r\n",
    "e = Employee(\"Ba\", 29, \"Cầu Giấy\", \"09xx\", 1000, \"Teacher\")\r\n",
    "e.greet()\r\n"
   ],
   "outputs": [
    {
     "output_type": "stream",
     "name": "stdout",
     "text": [
      "Hello, I'm Ba\n",
      "I'm Teacher\n"
     ]
    }
   ],
   "metadata": {}
  },
  {
   "cell_type": "markdown",
   "source": [
    "## Object Class\n",
    "\n",
    "Trong Python, class `object` là lớp cơ sở nhất, mọi class dù trực tiếp hay gián tiếp đều kế thừa từ nó, ngoại trừ các exceptions có base class là `BaseException`"
   ],
   "metadata": {}
  },
  {
   "cell_type": "code",
   "execution_count": 11,
   "source": [
    "class Animal(object):\r\n",
    "    pass\r\n",
    "\r\n",
    "class Cat(Animal):\r\n",
    "    pass\r\n",
    "\r\n",
    "\r\n",
    "obj = object()\r\n",
    "cat = Cat()\r\n",
    "\r\n",
    "print(dir(obj))\r\n",
    "print()\r\n",
    "print(dir(cat))"
   ],
   "outputs": [
    {
     "output_type": "stream",
     "name": "stdout",
     "text": [
      "['__class__', '__delattr__', '__dir__', '__doc__', '__eq__', '__format__', '__ge__', '__getattribute__', '__gt__', '__hash__', '__init__', '__init_subclass__', '__le__', '__lt__', '__ne__', '__new__', '__reduce__', '__reduce_ex__', '__repr__', '__setattr__', '__sizeof__', '__str__', '__subclasshook__']\n",
      "\n",
      "['__class__', '__delattr__', '__dict__', '__dir__', '__doc__', '__eq__', '__format__', '__ge__', '__getattribute__', '__gt__', '__hash__', '__init__', '__init_subclass__', '__le__', '__lt__', '__module__', '__ne__', '__new__', '__reduce__', '__reduce_ex__', '__repr__', '__setattr__', '__sizeof__', '__str__', '__subclasshook__', '__weakref__']\n"
     ]
    }
   ],
   "metadata": {}
  },
  {
   "cell_type": "markdown",
   "source": [
    "Ở ví dụ trên, `Cat` kế thừa từ `Animal` và gián tiếp kế thừa từ `object`, đây được gọi là **kế thừa nhiều cấp - multi-level inheritance**"
   ],
   "metadata": {}
  },
  {
   "cell_type": "markdown",
   "source": [
    "## Composition\n",
    "\n",
    "Ví dụ, lớp `Car` **CÓ MỘT** thành phần thuộc lớp `Engine`"
   ],
   "metadata": {}
  },
  {
   "cell_type": "code",
   "execution_count": 21,
   "source": [
    "class Car:\r\n",
    "    def __init__(self, engine):\r\n",
    "        self.engine = engine\r\n",
    "\r\n",
    "    def run(self):\r\n",
    "        self.engine.run()\r\n",
    "\r\n",
    "class Engine:\r\n",
    "    def run(self):\r\n",
    "        print(\"Run\")\r\n",
    "\r\n",
    "v12 = Engine()\r\n",
    "maybach = Car(v12)\r\n",
    "\r\n",
    "maybach.run()"
   ],
   "outputs": [
    {
     "output_type": "stream",
     "name": "stdout",
     "text": [
      "Run\n"
     ]
    }
   ],
   "metadata": {}
  },
  {
   "cell_type": "markdown",
   "source": [
    "## Polymorphism"
   ],
   "metadata": {}
  },
  {
   "cell_type": "code",
   "execution_count": 17,
   "source": [
    "# Ví dụ đa hình thể hiện thông qua toán tử\r\n",
    "\r\n",
    "print(1 + 1)\r\n",
    "print(\"a\" + \"b\")"
   ],
   "outputs": [
    {
     "output_type": "stream",
     "name": "stdout",
     "text": [
      "2\n",
      "ab\n"
     ]
    }
   ],
   "metadata": {}
  },
  {
   "cell_type": "code",
   "execution_count": 18,
   "source": [
    "# Ví dụ đa hình thể hiện thông qua hàm \r\n",
    "# có thể hoạt động với nhiều kiểu dữ liệu khác nhau\r\n",
    "\r\n",
    "print(len(\"hello\"))\r\n",
    "print(len([\"a\", \"b\", \"c\"]))\r\n",
    "print(len({\"x\": 1, \"y\": 2}))"
   ],
   "outputs": [
    {
     "output_type": "stream",
     "name": "stdout",
     "text": [
      "5\n",
      "3\n",
      "2\n"
     ]
    }
   ],
   "metadata": {}
  },
  {
   "cell_type": "code",
   "execution_count": 20,
   "source": [
    "# Ví dụ đa hình thể hiện thông qua lớp\r\n",
    "# Python không hỗ trợ method overriding như Java\r\n",
    "\r\n",
    "class Rectangle:\r\n",
    "    def __init__(self, length, breadth):\r\n",
    "        self.length = length\r\n",
    "        self.breadth = breadth\r\n",
    "\r\n",
    "    def area(self):\r\n",
    "        return self.length * self.breadth\r\n",
    "\r\n",
    "class Triangle:\r\n",
    "    def __init__(self, s1, s2, s3):\r\n",
    "        self.s1 = s1\r\n",
    "        self.s2 = s2\r\n",
    "        self.s3 = s3\r\n",
    "\r\n",
    "    def area(self):\r\n",
    "        # Công thức heron\r\n",
    "        sp = (self.s1 + self.s2 + self.s3) / 2\r\n",
    "        return (sp * (sp - self.s1) * (sp - self.s2) * (sp - self.s3)) ** 0.5\r\n",
    "\r\n",
    "class Circle:\r\n",
    "    def __init__(self, r):\r\n",
    "        self.r = r \r\n",
    "    \r\n",
    "    def area(self):\r\n",
    "        return 3.14 * self.r * self.r\r\n",
    "\r\n",
    "r = Rectangle(1, 5)\r\n",
    "t = Triangle(2, 4, 3)\r\n",
    "c = Circle(3)\r\n",
    "\r\n",
    "def find_area(shape):\r\n",
    "    print(shape.area())\r\n",
    "\r\n",
    "find_area(r)\r\n",
    "find_area(t)\r\n",
    "find_area(c)"
   ],
   "outputs": [
    {
     "output_type": "stream",
     "name": "stdout",
     "text": [
      "5\n",
      "2.9047375096555625\n",
      "28.259999999999998\n"
     ]
    }
   ],
   "metadata": {}
  },
  {
   "cell_type": "code",
   "execution_count": 10,
   "source": [
    "class Rectangular:\r\n",
    "    def __init__(self, rong, dai):\r\n",
    "        self.rong = rong\r\n",
    "        self.dai = dai\r\n",
    "    def chieudai(self):\r\n",
    "        return self.dai\r\n",
    "    def chieurong(self):\r\n",
    "        return self.rong\r\n",
    "    def chuvi(self):\r\n",
    "        return 2*(self.rong+self.dai)\r\n",
    "    def area(self):\r\n",
    "        return self.rong*self.dai\r\n",
    "class Square:\r\n",
    "    def __init__(self, canh):\r\n",
    "        self.canh= canh\r\n",
    "    def canh1(self):\r\n",
    "        return self.canh\r\n",
    "    def chuvi(self):\r\n",
    "        return self.canh*4\r\n",
    "    def area(self):\r\n",
    "        return self.canh*self.canh\r\n",
    "h1= Square(1)\r\n",
    "h2= Square(2)\r\n",
    "h3= Square(3)\r\n",
    "h4= Square(4)\r\n",
    "h5= Square(5)\r\n",
    "n1=Rectangular(1,4)\r\n",
    "n2=Rectangular(2,4)\r\n",
    "n3=Rectangular(3,4)\r\n",
    "n4=Rectangular(4,4)\r\n",
    "n5=Rectangular(5,6)\r\n",
    "hvuong =[h1,h2,h3,h4,h5]\r\n",
    "hcn=[n1,n2,n3,n4,n4]\r\n",
    "def find_rong(shape):\r\n",
    "    return(shape.chieurong())\r\n",
    "def find_dai(shape):\r\n",
    "    return(shape.chieudai())\r\n",
    "def find_canh(shape):\r\n",
    "    return(shape.canh1())\r\n",
    "def find_area(shape):\r\n",
    "    print(shape.area())\r\n",
    "def find_cvi(shape):\r\n",
    "    print(shape.chuvi())\r\n",
    "for i in hvuong:\r\n",
    "    print(\"diện tích hình vuông có cạnh bằng \" + str(find_canh(i))+\" là:\")\r\n",
    "    find_area(i)\r\n",
    "    print(\"Chu vi hình vuông có cạnh bằng \" + str(find_canh(i))+\" là:\")\r\n",
    "    find_cvi(i)\r\n",
    "for i in hcn:\r\n",
    "    print(\"diện tích hình chữ nhật có chiều rộng bằng \" +str(find_rong(i))+ \", chiều dài bằng \"+str(find_dai(i))+\" là:\")\r\n",
    "    find_area(i)\r\n",
    "    print(\"chu vi hình chữ nhật có chiều rộng bằng \" +str(find_rong(i))+ \", chiều dài bằng \"+str(find_dai(i))+\" là:\")\r\n",
    "    find_cvi(i)\r\n"
   ],
   "outputs": [
    {
     "output_type": "stream",
     "name": "stdout",
     "text": [
      "diện tích hình vuông có cạnh bằng 1 là:\n",
      "1\n",
      "Chu vi hình vuông có cạnh bằng 1 là:\n",
      "4\n",
      "diện tích hình vuông có cạnh bằng 2 là:\n",
      "4\n",
      "Chu vi hình vuông có cạnh bằng 2 là:\n",
      "8\n",
      "diện tích hình vuông có cạnh bằng 3 là:\n",
      "9\n",
      "Chu vi hình vuông có cạnh bằng 3 là:\n",
      "12\n",
      "diện tích hình vuông có cạnh bằng 4 là:\n",
      "16\n",
      "Chu vi hình vuông có cạnh bằng 4 là:\n",
      "16\n",
      "diện tích hình vuông có cạnh bằng 5 là:\n",
      "25\n",
      "Chu vi hình vuông có cạnh bằng 5 là:\n",
      "20\n",
      "diện tích hình chữ nhật có chiều rộng bằng 1, chiều dài bằng 4 là:\n",
      "4\n",
      "chu vi hình chữ nhật có chiều rộng bằng 1, chiều dài bằng 4 là:\n",
      "10\n",
      "diện tích hình chữ nhật có chiều rộng bằng 2, chiều dài bằng 4 là:\n",
      "8\n",
      "chu vi hình chữ nhật có chiều rộng bằng 2, chiều dài bằng 4 là:\n",
      "12\n",
      "diện tích hình chữ nhật có chiều rộng bằng 3, chiều dài bằng 4 là:\n",
      "12\n",
      "chu vi hình chữ nhật có chiều rộng bằng 3, chiều dài bằng 4 là:\n",
      "14\n",
      "diện tích hình chữ nhật có chiều rộng bằng 4, chiều dài bằng 4 là:\n",
      "16\n",
      "chu vi hình chữ nhật có chiều rộng bằng 4, chiều dài bằng 4 là:\n",
      "16\n",
      "diện tích hình chữ nhật có chiều rộng bằng 4, chiều dài bằng 4 là:\n",
      "16\n",
      "chu vi hình chữ nhật có chiều rộng bằng 4, chiều dài bằng 4 là:\n",
      "16\n"
     ]
    }
   ],
   "metadata": {}
  },
  {
   "cell_type": "markdown",
   "source": [
    "### Exercises\n",
    "\n",
    "1. Tạo class `SavingAccount` kế thừa từ `BankAccount`, bổ sung:\n",
    "- `monthly_interest_rate`: Lãi suất hàng tháng = `0.005`\n",
    "- `calculate_interest()`: tính tiền lãi hàng tháng, công thức `balance * monthly_interest_rate`\n",
    "\n",
    "2. Tạo class `Customer` bao gồm một số thông tin:\n",
    "- `name`, `date_of_birth`, `email`, `phone`\n",
    "- `get_info()` hiển thị thông tin Customer\n",
    "\n",
    "3. Thay đổi class `BankAccount`:\n",
    "- `_account_name` thành `_owner` là một `Customer`\n",
    "- `display()` hiển thị thông tin số tài khoản, thông tin khách hàng và số dư"
   ],
   "metadata": {}
  },
  {
   "cell_type": "markdown",
   "source": [],
   "metadata": {}
  }
 ],
 "metadata": {
  "kernelspec": {
   "name": "python3",
   "display_name": "Python 3.7.8 64-bit"
  },
  "language_info": {
   "codemirror_mode": {
    "name": "ipython",
    "version": 3
   },
   "file_extension": ".py",
   "mimetype": "text/x-python",
   "name": "python",
   "nbconvert_exporter": "python",
   "pygments_lexer": "ipython3",
   "version": "3.7.8"
  },
  "interpreter": {
   "hash": "db9b8f3b4692716b3be69df66af7d98986a5a525a687af8c4e691f6296842b9a"
  }
 },
 "nbformat": 4,
 "nbformat_minor": 5
}